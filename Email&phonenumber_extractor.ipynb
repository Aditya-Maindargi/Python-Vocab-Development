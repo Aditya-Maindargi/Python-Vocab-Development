{
 "cells": [
  {
   "cell_type": "code",
   "execution_count": 1,
   "id": "e78fde33-6c02-48a2-953c-ffce133f0067",
   "metadata": {},
   "outputs": [],
   "source": [
    "import re "
   ]
  },
  {
   "cell_type": "code",
   "execution_count": 22,
   "id": "c93a5241-c6c8-43db-a65a-c1bfed2c40ba",
   "metadata": {},
   "outputs": [],
   "source": [
    "# For extracting an email from the text \n",
    "def Email_Finder(the_text_finder):\n",
    "    for_email = re.compile(r\"[a-zA-Z0-9._+-]+@[a-zA-Z0-9.-]+\\.[a-zA-Z]{2,4}\")\n",
    "    for_number = re.compile(r'\\d{10}') \n",
    "    \n",
    "\n",
    "    print(\"\\t\\t\\t\\t\\t\\t\\t\")\n",
    "    email = for_email.findall(the_text_finder)\n",
    "    number = for_number.findall(the_text_finder) \n",
    "    \n",
    "    \n",
    "    em = [] \n",
    "    num = [] \n",
    "    \n",
    "    for i in range(len(email)): \n",
    "        em.append(email[i]) \n",
    "    \n",
    "    for i in range(len(number)): \n",
    "        num.append(number[i])  \n",
    "    \n",
    "    print(\"The number found are :\\t\")\n",
    "    for i in range(len(num)):\n",
    "        print(f\"{i+1}. {num[i]}\")\n",
    "    print('\\t')\n",
    "    \n",
    "    print(\"The emails found are : \\t\\n\")\n",
    "    for i in range(len(em)):\n",
    "        print(f\"{i+1}. {em[i]}\")"
   ]
  },
  {
   "cell_type": "code",
   "execution_count": 23,
   "id": "4c2a466e-43c4-4eff-92ec-e4af9143b57d",
   "metadata": {},
   "outputs": [
    {
     "name": "stdin",
     "output_type": "stream",
     "text": [
      "Emter the text from which you want to extract emails and phone numbers : \t\n",
      " Yesterday, I got a reminder from alex.morgan24@gmail.com  and also an update from priya.shah@outlook.com . Later in the day, rahul.kumar@company.org  called me on 9876543210, while steve.jobs@apple.com  dropped a note with his alternate number 1234567890. The report draft was reviewed by linda.parker@research.edu , who asked me to confirm details on 6789012345 and also share feedback with michael.smith@protonmail.com , reachable at 5432167890. Meanwhile, kavita.mehra@coep.ac.in  asked if we could contact her on 2345678901 or 8765432109, and I had to notify daniel.choi@mit.edu  about the design flaw while noting his number 3456789012. Toward evening, I received an urgent bug fix request from ananya.rane@developer.net , who could be reached at 7654321098. The last follow-up came from john.williams@support.io , and he gave two contacts: 4567890123 and 9012345678, so we won’t miss him during the weekend.\n"
     ]
    },
    {
     "name": "stdout",
     "output_type": "stream",
     "text": [
      "\t\t\t\t\t\t\t\n",
      "The number found are :\t\n",
      "1. 9876543210\n",
      "2. 1234567890\n",
      "3. 6789012345\n",
      "4. 5432167890\n",
      "5. 2345678901\n",
      "6. 8765432109\n",
      "7. 3456789012\n",
      "8. 7654321098\n",
      "9. 4567890123\n",
      "10. 9012345678\n",
      "\t\n",
      "The emails found are : \t\n",
      "\n",
      "1. alex.morgan24@gmail.com\n",
      "2. priya.shah@outlook.com\n",
      "3. rahul.kumar@company.org\n",
      "4. steve.jobs@apple.com\n",
      "5. linda.parker@research.edu\n",
      "6. michael.smith@protonmail.com\n",
      "7. kavita.mehra@coep.ac.in\n",
      "8. daniel.choi@mit.edu\n",
      "9. ananya.rane@developer.net\n",
      "10. john.williams@support.io\n"
     ]
    }
   ],
   "source": [
    "the_text_finder = input('Emter the text from which you want to extract emails and phone numbers : \\t\\n')\n",
    "\n",
    "Email_Finder(the_text_finder)"
   ]
  },
  {
   "cell_type": "code",
   "execution_count": null,
   "id": "b99e8430-e745-442f-8bfd-d19f99ebb53c",
   "metadata": {},
   "outputs": [],
   "source": []
  }
 ],
 "metadata": {
  "kernelspec": {
   "display_name": "Python 3 (ipykernel)",
   "language": "python",
   "name": "python3"
  },
  "language_info": {
   "codemirror_mode": {
    "name": "ipython",
    "version": 3
   },
   "file_extension": ".py",
   "mimetype": "text/x-python",
   "name": "python",
   "nbconvert_exporter": "python",
   "pygments_lexer": "ipython3",
   "version": "3.13.1"
  }
 },
 "nbformat": 4,
 "nbformat_minor": 5
}
